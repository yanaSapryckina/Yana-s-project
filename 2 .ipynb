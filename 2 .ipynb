{
 "cells": [
  {
   "cell_type": "code",
   "execution_count": 52,
   "metadata": {},
   "outputs": [
    {
     "name": "stdout",
     "output_type": "stream",
     "text": [
      "Поисковых запросов, содержащих 2 слова: 42.86 %\n",
      "Поисковых запросов, содержащих 3 слова: 57.14 %\n"
     ]
    }
   ],
   "source": [
    "queries = [\n",
    "    'смотреть сериалы онлайн',\n",
    "    'новости спорта',\n",
    "    'афиша кино',\n",
    "    'курс доллара',\n",
    "    'сериалы этим летом',\n",
    "    'курс по питону',\n",
    "    'сериалы про спорт'\n",
    "]\n",
    "b = []\n",
    "for q in queries:\n",
    "    b.append(len(q.split(' ')))\n",
    "a = set(b)\n",
    "b = list(a)\n",
    "c =[]\n",
    "for i in queries:\n",
    "    c.append(len(i.split(' ')))\n",
    "for i in b:\n",
    "    print(f'Поисковых запросов, содержащих {i} слова:',round(c.count(i)/len(c)*100,2),'%')"
   ]
  }
 ],
 "metadata": {
  "kernelspec": {
   "display_name": "Python 3",
   "language": "python",
   "name": "python3"
  },
  "language_info": {
   "codemirror_mode": {
    "name": "ipython",
    "version": 3
   },
   "file_extension": ".py",
   "mimetype": "text/x-python",
   "name": "python",
   "nbconvert_exporter": "python",
   "pygments_lexer": "ipython3",
   "version": "3.8.3"
  }
 },
 "nbformat": 4,
 "nbformat_minor": 4
}

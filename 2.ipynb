{
 "cells": [
  {
   "cell_type": "code",
   "execution_count": 16,
   "metadata": {},
   "outputs": [
    {
     "name": "stdout",
     "output_type": "stream",
     "text": [
      "Поисковых запросов, содержащих 2 слова: 0.43 %\n",
      "Поисковых запросов, содержащих 3 слова: 0.57 %\n"
     ]
    }
   ],
   "source": [
    "queries = [\n",
    "'смотреть сериалы онлайн',\n",
    "'новости спорта',\n",
    "'афиша кино',\n",
    "'курс доллара',\n",
    "'сериалы этим летом',\n",
    "'курс по питону',\n",
    "'сериалы про спорт',\n",
    "]\n",
    "a_2 = 0\n",
    "a_3 = 0\n",
    "for i in queries:\n",
    "    a = len(i.split(' '))\n",
    "    if a == 2:\n",
    "        a_2 +=1\n",
    "    elif a == 3:\n",
    "        a_3 +=1\n",
    "print('Поисковых запросов, содержащих 2 слова:',round(a_2/(a_2+a_3),2),'%')\n",
    "print('Поисковых запросов, содержащих 3 слова:',round(a_3/(a_2+a_3),2),'%')"
   ]
  }
 ],
 "metadata": {
  "kernelspec": {
   "display_name": "Python 3",
   "language": "python",
   "name": "python3"
  },
  "language_info": {
   "codemirror_mode": {
    "name": "ipython",
    "version": 3
   },
   "file_extension": ".py",
   "mimetype": "text/x-python",
   "name": "python",
   "nbconvert_exporter": "python",
   "pygments_lexer": "ipython3",
   "version": "3.8.3"
  }
 },
 "nbformat": 4,
 "nbformat_minor": 4
}
